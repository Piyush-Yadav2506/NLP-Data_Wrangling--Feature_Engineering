{
 "cells": [
  {
   "cell_type": "code",
   "execution_count": 1,
   "id": "896b1345-9d73-461b-96bd-dd7cb2992b67",
   "metadata": {},
   "outputs": [],
   "source": [
    "import pandas as pd\n",
    "import requests"
   ]
  },
  {
   "cell_type": "raw",
   "id": "e49d4af3-ff7d-4702-a79c-6243ed9c72ae",
   "metadata": {},
   "source": [
    "Now we will use get to hit the api and request for data."
   ]
  },
  {
   "cell_type": "code",
   "execution_count": 5,
   "id": "cdeca22c-a7fd-4d34-8975-ad546d144b21",
   "metadata": {},
   "outputs": [],
   "source": [
    "response = requests.get('https://api.themoviedb.org/3/movie/top_rated?api_key=8265bd1679663a7ea12ac168da84d2e8&language=en-US&page=1')"
   ]
  },
  {
   "cell_type": "code",
   "execution_count": 28,
   "id": "63914e55-235f-4736-bf53-43e3ae36eae3",
   "metadata": {},
   "outputs": [
    {
     "data": {
      "text/html": [
       "<div>\n",
       "<style scoped>\n",
       "    .dataframe tbody tr th:only-of-type {\n",
       "        vertical-align: middle;\n",
       "    }\n",
       "\n",
       "    .dataframe tbody tr th {\n",
       "        vertical-align: top;\n",
       "    }\n",
       "\n",
       "    .dataframe thead th {\n",
       "        text-align: right;\n",
       "    }\n",
       "</style>\n",
       "<table border=\"1\" class=\"dataframe\">\n",
       "  <thead>\n",
       "    <tr style=\"text-align: right;\">\n",
       "      <th></th>\n",
       "      <th>title</th>\n",
       "      <th>overview</th>\n",
       "      <th>genre_ids</th>\n",
       "      <th>vote_average</th>\n",
       "    </tr>\n",
       "  </thead>\n",
       "  <tbody>\n",
       "    <tr>\n",
       "      <th>0</th>\n",
       "      <td>The Shawshank Redemption</td>\n",
       "      <td>Imprisoned in the 1940s for the double murder ...</td>\n",
       "      <td>[18, 80]</td>\n",
       "      <td>8.700</td>\n",
       "    </tr>\n",
       "    <tr>\n",
       "      <th>1</th>\n",
       "      <td>The Godfather</td>\n",
       "      <td>Spanning the years 1945 to 1955, a chronicle o...</td>\n",
       "      <td>[18, 80]</td>\n",
       "      <td>8.686</td>\n",
       "    </tr>\n",
       "    <tr>\n",
       "      <th>2</th>\n",
       "      <td>The Godfather Part II</td>\n",
       "      <td>In the continuing saga of the Corleone crime f...</td>\n",
       "      <td>[18, 80]</td>\n",
       "      <td>8.571</td>\n",
       "    </tr>\n",
       "    <tr>\n",
       "      <th>3</th>\n",
       "      <td>Schindler's List</td>\n",
       "      <td>The true story of how businessman Oskar Schind...</td>\n",
       "      <td>[18, 36, 10752]</td>\n",
       "      <td>8.565</td>\n",
       "    </tr>\n",
       "    <tr>\n",
       "      <th>4</th>\n",
       "      <td>12 Angry Men</td>\n",
       "      <td>The defense and the prosecution have rested an...</td>\n",
       "      <td>[18]</td>\n",
       "      <td>8.548</td>\n",
       "    </tr>\n",
       "    <tr>\n",
       "      <th>5</th>\n",
       "      <td>Spirited Away</td>\n",
       "      <td>A young girl, Chihiro, becomes trapped in a st...</td>\n",
       "      <td>[16, 10751, 14]</td>\n",
       "      <td>8.535</td>\n",
       "    </tr>\n",
       "    <tr>\n",
       "      <th>6</th>\n",
       "      <td>The Dark Knight</td>\n",
       "      <td>Batman raises the stakes in his war on crime. ...</td>\n",
       "      <td>[18, 28, 80, 53]</td>\n",
       "      <td>8.522</td>\n",
       "    </tr>\n",
       "    <tr>\n",
       "      <th>7</th>\n",
       "      <td>Dilwale Dulhania Le Jayenge</td>\n",
       "      <td>Raj is a rich, carefree, happy-go-lucky second...</td>\n",
       "      <td>[35, 18, 10749]</td>\n",
       "      <td>8.515</td>\n",
       "    </tr>\n",
       "    <tr>\n",
       "      <th>8</th>\n",
       "      <td>The Green Mile</td>\n",
       "      <td>A supernatural tale set on death row in a Sout...</td>\n",
       "      <td>[14, 18, 80]</td>\n",
       "      <td>8.503</td>\n",
       "    </tr>\n",
       "    <tr>\n",
       "      <th>9</th>\n",
       "      <td>Parasite</td>\n",
       "      <td>All unemployed, Ki-taek's family takes peculia...</td>\n",
       "      <td>[35, 53, 18]</td>\n",
       "      <td>8.498</td>\n",
       "    </tr>\n",
       "    <tr>\n",
       "      <th>10</th>\n",
       "      <td>The Lord of the Rings: The Return of the King</td>\n",
       "      <td>As armies mass for a final battle that will de...</td>\n",
       "      <td>[12, 14, 28]</td>\n",
       "      <td>8.500</td>\n",
       "    </tr>\n",
       "    <tr>\n",
       "      <th>11</th>\n",
       "      <td>Pulp Fiction</td>\n",
       "      <td>A burger-loving hit man, his philosophical par...</td>\n",
       "      <td>[53, 80, 35, 18]</td>\n",
       "      <td>8.487</td>\n",
       "    </tr>\n",
       "    <tr>\n",
       "      <th>12</th>\n",
       "      <td>Your Name.</td>\n",
       "      <td>High schoolers Mitsuha and Taki are complete s...</td>\n",
       "      <td>[16, 10749, 18]</td>\n",
       "      <td>8.481</td>\n",
       "    </tr>\n",
       "    <tr>\n",
       "      <th>13</th>\n",
       "      <td>The Good, the Bad and the Ugly</td>\n",
       "      <td>While the Civil War rages on between the Union...</td>\n",
       "      <td>[37]</td>\n",
       "      <td>8.465</td>\n",
       "    </tr>\n",
       "    <tr>\n",
       "      <th>14</th>\n",
       "      <td>Forrest Gump</td>\n",
       "      <td>A man with a low IQ has accomplished great thi...</td>\n",
       "      <td>[35, 18, 10749]</td>\n",
       "      <td>8.465</td>\n",
       "    </tr>\n",
       "    <tr>\n",
       "      <th>15</th>\n",
       "      <td>Interstellar</td>\n",
       "      <td>The adventures of a group of explorers who mak...</td>\n",
       "      <td>[12, 18, 878]</td>\n",
       "      <td>8.460</td>\n",
       "    </tr>\n",
       "    <tr>\n",
       "      <th>16</th>\n",
       "      <td>Seven Samurai</td>\n",
       "      <td>A samurai answers a village's request for prot...</td>\n",
       "      <td>[28, 18]</td>\n",
       "      <td>8.456</td>\n",
       "    </tr>\n",
       "    <tr>\n",
       "      <th>17</th>\n",
       "      <td>GoodFellas</td>\n",
       "      <td>The true story of Henry Hill, a half-Irish, ha...</td>\n",
       "      <td>[18, 80]</td>\n",
       "      <td>8.455</td>\n",
       "    </tr>\n",
       "    <tr>\n",
       "      <th>18</th>\n",
       "      <td>Grave of the Fireflies</td>\n",
       "      <td>In the final months of World War II, 14-year-o...</td>\n",
       "      <td>[16, 18, 10752]</td>\n",
       "      <td>8.400</td>\n",
       "    </tr>\n",
       "    <tr>\n",
       "      <th>19</th>\n",
       "      <td>Life Is Beautiful</td>\n",
       "      <td>A touching story of an Italian book seller of ...</td>\n",
       "      <td>[35, 18]</td>\n",
       "      <td>8.442</td>\n",
       "    </tr>\n",
       "  </tbody>\n",
       "</table>\n",
       "</div>"
      ],
      "text/plain": [
       "                                            title  \\\n",
       "0                        The Shawshank Redemption   \n",
       "1                                   The Godfather   \n",
       "2                           The Godfather Part II   \n",
       "3                                Schindler's List   \n",
       "4                                    12 Angry Men   \n",
       "5                                   Spirited Away   \n",
       "6                                 The Dark Knight   \n",
       "7                     Dilwale Dulhania Le Jayenge   \n",
       "8                                  The Green Mile   \n",
       "9                                        Parasite   \n",
       "10  The Lord of the Rings: The Return of the King   \n",
       "11                                   Pulp Fiction   \n",
       "12                                     Your Name.   \n",
       "13                 The Good, the Bad and the Ugly   \n",
       "14                                   Forrest Gump   \n",
       "15                                   Interstellar   \n",
       "16                                  Seven Samurai   \n",
       "17                                     GoodFellas   \n",
       "18                         Grave of the Fireflies   \n",
       "19                              Life Is Beautiful   \n",
       "\n",
       "                                             overview         genre_ids  \\\n",
       "0   Imprisoned in the 1940s for the double murder ...          [18, 80]   \n",
       "1   Spanning the years 1945 to 1955, a chronicle o...          [18, 80]   \n",
       "2   In the continuing saga of the Corleone crime f...          [18, 80]   \n",
       "3   The true story of how businessman Oskar Schind...   [18, 36, 10752]   \n",
       "4   The defense and the prosecution have rested an...              [18]   \n",
       "5   A young girl, Chihiro, becomes trapped in a st...   [16, 10751, 14]   \n",
       "6   Batman raises the stakes in his war on crime. ...  [18, 28, 80, 53]   \n",
       "7   Raj is a rich, carefree, happy-go-lucky second...   [35, 18, 10749]   \n",
       "8   A supernatural tale set on death row in a Sout...      [14, 18, 80]   \n",
       "9   All unemployed, Ki-taek's family takes peculia...      [35, 53, 18]   \n",
       "10  As armies mass for a final battle that will de...      [12, 14, 28]   \n",
       "11  A burger-loving hit man, his philosophical par...  [53, 80, 35, 18]   \n",
       "12  High schoolers Mitsuha and Taki are complete s...   [16, 10749, 18]   \n",
       "13  While the Civil War rages on between the Union...              [37]   \n",
       "14  A man with a low IQ has accomplished great thi...   [35, 18, 10749]   \n",
       "15  The adventures of a group of explorers who mak...     [12, 18, 878]   \n",
       "16  A samurai answers a village's request for prot...          [28, 18]   \n",
       "17  The true story of Henry Hill, a half-Irish, ha...          [18, 80]   \n",
       "18  In the final months of World War II, 14-year-o...   [16, 18, 10752]   \n",
       "19  A touching story of an Italian book seller of ...          [35, 18]   \n",
       "\n",
       "    vote_average  \n",
       "0          8.700  \n",
       "1          8.686  \n",
       "2          8.571  \n",
       "3          8.565  \n",
       "4          8.548  \n",
       "5          8.535  \n",
       "6          8.522  \n",
       "7          8.515  \n",
       "8          8.503  \n",
       "9          8.498  \n",
       "10         8.500  \n",
       "11         8.487  \n",
       "12         8.481  \n",
       "13         8.465  \n",
       "14         8.465  \n",
       "15         8.460  \n",
       "16         8.456  \n",
       "17         8.455  \n",
       "18         8.400  \n",
       "19         8.442  "
      ]
     },
     "execution_count": 28,
     "metadata": {},
     "output_type": "execute_result"
    }
   ],
   "source": [
    "pd.DataFrame(response.json()['results'])[['title','overview','genre_ids','vote_average']]"
   ]
  },
  {
   "cell_type": "code",
   "execution_count": 16,
   "id": "a3db92cb-d367-4fb7-9fbf-8fe44ccfc1ce",
   "metadata": {},
   "outputs": [],
   "source": [
    "df = pd.DataFrame()"
   ]
  },
  {
   "cell_type": "code",
   "execution_count": 60,
   "id": "78b207fa-f49a-42c9-8440-2d496c316473",
   "metadata": {},
   "outputs": [],
   "source": [
    "df_list = []\n",
    "\n",
    "for i in range(1,501):\n",
    "    response = requests.get('https://api.themoviedb.org/3/movie/top_rated?api_key=8265bd1679663a7ea12ac168da84d2e8&language=en-US&page={}'.format(i))\n",
    "    if response.status_code == 200:\n",
    "        temp_df = pd.DataFrame(response.json()['results'])[['title','overview','genre_ids','vote_average']]\n",
    "        df_list.append(temp_df)\n",
    "    else:\n",
    "        print(f\"Failed to retrieve data for page {i}. Status code: {response.status_code}\")\n",
    "\n",
    "df = pd.concat(df_list, ignore_index=True)"
   ]
  },
  {
   "cell_type": "code",
   "execution_count": 62,
   "id": "3e0b42ce-49fd-471d-a008-f0e467cb50f6",
   "metadata": {},
   "outputs": [
    {
     "data": {
      "text/html": [
       "<div>\n",
       "<style scoped>\n",
       "    .dataframe tbody tr th:only-of-type {\n",
       "        vertical-align: middle;\n",
       "    }\n",
       "\n",
       "    .dataframe tbody tr th {\n",
       "        vertical-align: top;\n",
       "    }\n",
       "\n",
       "    .dataframe thead th {\n",
       "        text-align: right;\n",
       "    }\n",
       "</style>\n",
       "<table border=\"1\" class=\"dataframe\">\n",
       "  <thead>\n",
       "    <tr style=\"text-align: right;\">\n",
       "      <th></th>\n",
       "      <th>title</th>\n",
       "      <th>overview</th>\n",
       "      <th>genre_ids</th>\n",
       "      <th>vote_average</th>\n",
       "    </tr>\n",
       "  </thead>\n",
       "  <tbody>\n",
       "    <tr>\n",
       "      <th>0</th>\n",
       "      <td>The Shawshank Redemption</td>\n",
       "      <td>Imprisoned in the 1940s for the double murder ...</td>\n",
       "      <td>[18, 80]</td>\n",
       "      <td>8.700</td>\n",
       "    </tr>\n",
       "    <tr>\n",
       "      <th>1</th>\n",
       "      <td>The Godfather</td>\n",
       "      <td>Spanning the years 1945 to 1955, a chronicle o...</td>\n",
       "      <td>[18, 80]</td>\n",
       "      <td>8.686</td>\n",
       "    </tr>\n",
       "    <tr>\n",
       "      <th>2</th>\n",
       "      <td>The Godfather Part II</td>\n",
       "      <td>In the continuing saga of the Corleone crime f...</td>\n",
       "      <td>[18, 80]</td>\n",
       "      <td>8.571</td>\n",
       "    </tr>\n",
       "    <tr>\n",
       "      <th>3</th>\n",
       "      <td>Schindler's List</td>\n",
       "      <td>The true story of how businessman Oskar Schind...</td>\n",
       "      <td>[18, 36, 10752]</td>\n",
       "      <td>8.565</td>\n",
       "    </tr>\n",
       "    <tr>\n",
       "      <th>4</th>\n",
       "      <td>12 Angry Men</td>\n",
       "      <td>The defense and the prosecution have rested an...</td>\n",
       "      <td>[18]</td>\n",
       "      <td>8.548</td>\n",
       "    </tr>\n",
       "  </tbody>\n",
       "</table>\n",
       "</div>"
      ],
      "text/plain": [
       "                      title  \\\n",
       "0  The Shawshank Redemption   \n",
       "1             The Godfather   \n",
       "2     The Godfather Part II   \n",
       "3          Schindler's List   \n",
       "4              12 Angry Men   \n",
       "\n",
       "                                            overview        genre_ids  \\\n",
       "0  Imprisoned in the 1940s for the double murder ...         [18, 80]   \n",
       "1  Spanning the years 1945 to 1955, a chronicle o...         [18, 80]   \n",
       "2  In the continuing saga of the Corleone crime f...         [18, 80]   \n",
       "3  The true story of how businessman Oskar Schind...  [18, 36, 10752]   \n",
       "4  The defense and the prosecution have rested an...             [18]   \n",
       "\n",
       "   vote_average  \n",
       "0         8.700  \n",
       "1         8.686  \n",
       "2         8.571  \n",
       "3         8.565  \n",
       "4         8.548  "
      ]
     },
     "execution_count": 62,
     "metadata": {},
     "output_type": "execute_result"
    }
   ],
   "source": [
    "df.head()"
   ]
  },
  {
   "cell_type": "code",
   "execution_count": 64,
   "id": "976ec5e1-d951-42a2-9efa-1935d2fe92d7",
   "metadata": {},
   "outputs": [
    {
     "data": {
      "text/plain": [
       "(10000, 4)"
      ]
     },
     "execution_count": 64,
     "metadata": {},
     "output_type": "execute_result"
    }
   ],
   "source": [
    "df.shape"
   ]
  },
  {
   "cell_type": "markdown",
   "id": "214e9419-f367-4e08-aaa5-69e12344e262",
   "metadata": {},
   "source": [
    "## Mapping genre_id to the genre name from genre api"
   ]
  },
  {
   "cell_type": "code",
   "execution_count": 32,
   "id": "127df5dd-60bf-4770-9ced-26ed1274c5b3",
   "metadata": {},
   "outputs": [],
   "source": [
    "response_2 = requests.get('https://api.themoviedb.org/3/genre/movie/list?api_key=8265bd1679663a7ea12ac168da84d2e8&language=en-US')"
   ]
  },
  {
   "cell_type": "code",
   "execution_count": 68,
   "id": "51e26c9b-9041-49d0-9f6e-577a5ccb01a5",
   "metadata": {},
   "outputs": [],
   "source": [
    "genre = pd.DataFrame(response_2.json()['genres'], index=None)"
   ]
  },
  {
   "cell_type": "code",
   "execution_count": 110,
   "id": "cfa09d01-6e0e-4955-bf50-5a32df46bbe0",
   "metadata": {},
   "outputs": [],
   "source": [
    "genre_dict = dict(zip(genre[\"id\"], genre[\"name\"]))"
   ]
  },
  {
   "cell_type": "code",
   "execution_count": 112,
   "id": "1bba8140-95e8-44e8-92e5-3d233f765e2b",
   "metadata": {},
   "outputs": [
    {
     "data": {
      "text/plain": [
       "{28: 'Action',\n",
       " 12: 'Adventure',\n",
       " 16: 'Animation',\n",
       " 35: 'Comedy',\n",
       " 80: 'Crime',\n",
       " 99: 'Documentary',\n",
       " 18: 'Drama',\n",
       " 10751: 'Family',\n",
       " 14: 'Fantasy',\n",
       " 36: 'History',\n",
       " 27: 'Horror',\n",
       " 10402: 'Music',\n",
       " 9648: 'Mystery',\n",
       " 10749: 'Romance',\n",
       " 878: 'Science Fiction',\n",
       " 10770: 'TV Movie',\n",
       " 53: 'Thriller',\n",
       " 10752: 'War',\n",
       " 37: 'Western'}"
      ]
     },
     "execution_count": 112,
     "metadata": {},
     "output_type": "execute_result"
    }
   ],
   "source": [
    "genre_dict"
   ]
  },
  {
   "cell_type": "code",
   "execution_count": 115,
   "id": "caedd263-64a9-480e-b1e1-a2c40e0536b5",
   "metadata": {},
   "outputs": [],
   "source": [
    "df['genre_names'] = df['genre_ids'].apply(lambda ids: [genre_dict[i] for i in ids if i in genre_dict])"
   ]
  },
  {
   "cell_type": "code",
   "execution_count": 117,
   "id": "a4a8f342-8512-49ca-99c2-34c8afc5d191",
   "metadata": {},
   "outputs": [
    {
     "data": {
      "text/html": [
       "<div>\n",
       "<style scoped>\n",
       "    .dataframe tbody tr th:only-of-type {\n",
       "        vertical-align: middle;\n",
       "    }\n",
       "\n",
       "    .dataframe tbody tr th {\n",
       "        vertical-align: top;\n",
       "    }\n",
       "\n",
       "    .dataframe thead th {\n",
       "        text-align: right;\n",
       "    }\n",
       "</style>\n",
       "<table border=\"1\" class=\"dataframe\">\n",
       "  <thead>\n",
       "    <tr style=\"text-align: right;\">\n",
       "      <th></th>\n",
       "      <th>title</th>\n",
       "      <th>overview</th>\n",
       "      <th>genre_ids</th>\n",
       "      <th>vote_average</th>\n",
       "      <th>genre_names</th>\n",
       "    </tr>\n",
       "  </thead>\n",
       "  <tbody>\n",
       "    <tr>\n",
       "      <th>0</th>\n",
       "      <td>The Shawshank Redemption</td>\n",
       "      <td>Imprisoned in the 1940s for the double murder ...</td>\n",
       "      <td>[18, 80]</td>\n",
       "      <td>8.700</td>\n",
       "      <td>[Drama, Crime]</td>\n",
       "    </tr>\n",
       "    <tr>\n",
       "      <th>1</th>\n",
       "      <td>The Godfather</td>\n",
       "      <td>Spanning the years 1945 to 1955, a chronicle o...</td>\n",
       "      <td>[18, 80]</td>\n",
       "      <td>8.686</td>\n",
       "      <td>[Drama, Crime]</td>\n",
       "    </tr>\n",
       "    <tr>\n",
       "      <th>2</th>\n",
       "      <td>The Godfather Part II</td>\n",
       "      <td>In the continuing saga of the Corleone crime f...</td>\n",
       "      <td>[18, 80]</td>\n",
       "      <td>8.571</td>\n",
       "      <td>[Drama, Crime]</td>\n",
       "    </tr>\n",
       "    <tr>\n",
       "      <th>3</th>\n",
       "      <td>Schindler's List</td>\n",
       "      <td>The true story of how businessman Oskar Schind...</td>\n",
       "      <td>[18, 36, 10752]</td>\n",
       "      <td>8.565</td>\n",
       "      <td>[Drama, History, War]</td>\n",
       "    </tr>\n",
       "    <tr>\n",
       "      <th>4</th>\n",
       "      <td>12 Angry Men</td>\n",
       "      <td>The defense and the prosecution have rested an...</td>\n",
       "      <td>[18]</td>\n",
       "      <td>8.548</td>\n",
       "      <td>[Drama]</td>\n",
       "    </tr>\n",
       "  </tbody>\n",
       "</table>\n",
       "</div>"
      ],
      "text/plain": [
       "                      title  \\\n",
       "0  The Shawshank Redemption   \n",
       "1             The Godfather   \n",
       "2     The Godfather Part II   \n",
       "3          Schindler's List   \n",
       "4              12 Angry Men   \n",
       "\n",
       "                                            overview        genre_ids  \\\n",
       "0  Imprisoned in the 1940s for the double murder ...         [18, 80]   \n",
       "1  Spanning the years 1945 to 1955, a chronicle o...         [18, 80]   \n",
       "2  In the continuing saga of the Corleone crime f...         [18, 80]   \n",
       "3  The true story of how businessman Oskar Schind...  [18, 36, 10752]   \n",
       "4  The defense and the prosecution have rested an...             [18]   \n",
       "\n",
       "   vote_average            genre_names  \n",
       "0         8.700         [Drama, Crime]  \n",
       "1         8.686         [Drama, Crime]  \n",
       "2         8.571         [Drama, Crime]  \n",
       "3         8.565  [Drama, History, War]  \n",
       "4         8.548                [Drama]  "
      ]
     },
     "execution_count": 117,
     "metadata": {},
     "output_type": "execute_result"
    }
   ],
   "source": [
    "df.head()"
   ]
  },
  {
   "cell_type": "code",
   "execution_count": 119,
   "id": "ff0456fb-3ee8-41c7-9238-25c571d7381b",
   "metadata": {},
   "outputs": [],
   "source": [
    "df['genre_names'] = df['genre_names'].apply(lambda x: \", \".join(x))"
   ]
  },
  {
   "cell_type": "code",
   "execution_count": 121,
   "id": "e252edda-167a-494c-a37c-25c4d9c4ca67",
   "metadata": {},
   "outputs": [
    {
     "data": {
      "text/html": [
       "<div>\n",
       "<style scoped>\n",
       "    .dataframe tbody tr th:only-of-type {\n",
       "        vertical-align: middle;\n",
       "    }\n",
       "\n",
       "    .dataframe tbody tr th {\n",
       "        vertical-align: top;\n",
       "    }\n",
       "\n",
       "    .dataframe thead th {\n",
       "        text-align: right;\n",
       "    }\n",
       "</style>\n",
       "<table border=\"1\" class=\"dataframe\">\n",
       "  <thead>\n",
       "    <tr style=\"text-align: right;\">\n",
       "      <th></th>\n",
       "      <th>title</th>\n",
       "      <th>overview</th>\n",
       "      <th>genre_ids</th>\n",
       "      <th>vote_average</th>\n",
       "      <th>genre_names</th>\n",
       "    </tr>\n",
       "  </thead>\n",
       "  <tbody>\n",
       "    <tr>\n",
       "      <th>0</th>\n",
       "      <td>The Shawshank Redemption</td>\n",
       "      <td>Imprisoned in the 1940s for the double murder ...</td>\n",
       "      <td>[18, 80]</td>\n",
       "      <td>8.700</td>\n",
       "      <td>Drama, Crime</td>\n",
       "    </tr>\n",
       "    <tr>\n",
       "      <th>1</th>\n",
       "      <td>The Godfather</td>\n",
       "      <td>Spanning the years 1945 to 1955, a chronicle o...</td>\n",
       "      <td>[18, 80]</td>\n",
       "      <td>8.686</td>\n",
       "      <td>Drama, Crime</td>\n",
       "    </tr>\n",
       "    <tr>\n",
       "      <th>2</th>\n",
       "      <td>The Godfather Part II</td>\n",
       "      <td>In the continuing saga of the Corleone crime f...</td>\n",
       "      <td>[18, 80]</td>\n",
       "      <td>8.571</td>\n",
       "      <td>Drama, Crime</td>\n",
       "    </tr>\n",
       "    <tr>\n",
       "      <th>3</th>\n",
       "      <td>Schindler's List</td>\n",
       "      <td>The true story of how businessman Oskar Schind...</td>\n",
       "      <td>[18, 36, 10752]</td>\n",
       "      <td>8.565</td>\n",
       "      <td>Drama, History, War</td>\n",
       "    </tr>\n",
       "    <tr>\n",
       "      <th>4</th>\n",
       "      <td>12 Angry Men</td>\n",
       "      <td>The defense and the prosecution have rested an...</td>\n",
       "      <td>[18]</td>\n",
       "      <td>8.548</td>\n",
       "      <td>Drama</td>\n",
       "    </tr>\n",
       "  </tbody>\n",
       "</table>\n",
       "</div>"
      ],
      "text/plain": [
       "                      title  \\\n",
       "0  The Shawshank Redemption   \n",
       "1             The Godfather   \n",
       "2     The Godfather Part II   \n",
       "3          Schindler's List   \n",
       "4              12 Angry Men   \n",
       "\n",
       "                                            overview        genre_ids  \\\n",
       "0  Imprisoned in the 1940s for the double murder ...         [18, 80]   \n",
       "1  Spanning the years 1945 to 1955, a chronicle o...         [18, 80]   \n",
       "2  In the continuing saga of the Corleone crime f...         [18, 80]   \n",
       "3  The true story of how businessman Oskar Schind...  [18, 36, 10752]   \n",
       "4  The defense and the prosecution have rested an...             [18]   \n",
       "\n",
       "   vote_average          genre_names  \n",
       "0         8.700         Drama, Crime  \n",
       "1         8.686         Drama, Crime  \n",
       "2         8.571         Drama, Crime  \n",
       "3         8.565  Drama, History, War  \n",
       "4         8.548                Drama  "
      ]
     },
     "execution_count": 121,
     "metadata": {},
     "output_type": "execute_result"
    }
   ],
   "source": [
    "df.head()"
   ]
  },
  {
   "cell_type": "code",
   "execution_count": 125,
   "id": "31516725-4ba0-4599-bdc1-af2e0591efca",
   "metadata": {},
   "outputs": [],
   "source": [
    "## drop genre id\n",
    "df.drop('genre_ids', axis=1, inplace=True)"
   ]
  },
  {
   "cell_type": "code",
   "execution_count": 127,
   "id": "18491850-1a3c-4588-bd4e-c0dd99c3173e",
   "metadata": {},
   "outputs": [
    {
     "data": {
      "text/html": [
       "<div>\n",
       "<style scoped>\n",
       "    .dataframe tbody tr th:only-of-type {\n",
       "        vertical-align: middle;\n",
       "    }\n",
       "\n",
       "    .dataframe tbody tr th {\n",
       "        vertical-align: top;\n",
       "    }\n",
       "\n",
       "    .dataframe thead th {\n",
       "        text-align: right;\n",
       "    }\n",
       "</style>\n",
       "<table border=\"1\" class=\"dataframe\">\n",
       "  <thead>\n",
       "    <tr style=\"text-align: right;\">\n",
       "      <th></th>\n",
       "      <th>title</th>\n",
       "      <th>overview</th>\n",
       "      <th>vote_average</th>\n",
       "      <th>genre_names</th>\n",
       "    </tr>\n",
       "  </thead>\n",
       "  <tbody>\n",
       "    <tr>\n",
       "      <th>0</th>\n",
       "      <td>The Shawshank Redemption</td>\n",
       "      <td>Imprisoned in the 1940s for the double murder ...</td>\n",
       "      <td>8.700</td>\n",
       "      <td>Drama, Crime</td>\n",
       "    </tr>\n",
       "    <tr>\n",
       "      <th>1</th>\n",
       "      <td>The Godfather</td>\n",
       "      <td>Spanning the years 1945 to 1955, a chronicle o...</td>\n",
       "      <td>8.686</td>\n",
       "      <td>Drama, Crime</td>\n",
       "    </tr>\n",
       "    <tr>\n",
       "      <th>2</th>\n",
       "      <td>The Godfather Part II</td>\n",
       "      <td>In the continuing saga of the Corleone crime f...</td>\n",
       "      <td>8.571</td>\n",
       "      <td>Drama, Crime</td>\n",
       "    </tr>\n",
       "    <tr>\n",
       "      <th>3</th>\n",
       "      <td>Schindler's List</td>\n",
       "      <td>The true story of how businessman Oskar Schind...</td>\n",
       "      <td>8.565</td>\n",
       "      <td>Drama, History, War</td>\n",
       "    </tr>\n",
       "    <tr>\n",
       "      <th>4</th>\n",
       "      <td>12 Angry Men</td>\n",
       "      <td>The defense and the prosecution have rested an...</td>\n",
       "      <td>8.548</td>\n",
       "      <td>Drama</td>\n",
       "    </tr>\n",
       "  </tbody>\n",
       "</table>\n",
       "</div>"
      ],
      "text/plain": [
       "                      title  \\\n",
       "0  The Shawshank Redemption   \n",
       "1             The Godfather   \n",
       "2     The Godfather Part II   \n",
       "3          Schindler's List   \n",
       "4              12 Angry Men   \n",
       "\n",
       "                                            overview  vote_average  \\\n",
       "0  Imprisoned in the 1940s for the double murder ...         8.700   \n",
       "1  Spanning the years 1945 to 1955, a chronicle o...         8.686   \n",
       "2  In the continuing saga of the Corleone crime f...         8.571   \n",
       "3  The true story of how businessman Oskar Schind...         8.565   \n",
       "4  The defense and the prosecution have rested an...         8.548   \n",
       "\n",
       "           genre_names  \n",
       "0         Drama, Crime  \n",
       "1         Drama, Crime  \n",
       "2         Drama, Crime  \n",
       "3  Drama, History, War  \n",
       "4                Drama  "
      ]
     },
     "execution_count": 127,
     "metadata": {},
     "output_type": "execute_result"
    }
   ],
   "source": [
    "df.head()"
   ]
  },
  {
   "cell_type": "code",
   "execution_count": 129,
   "id": "c874a34e-53b8-4ae3-8b72-551523f4a385",
   "metadata": {},
   "outputs": [],
   "source": [
    "df.to_csv('IMDB 10000 Movie Data for NLP', index=False)"
   ]
  },
  {
   "cell_type": "markdown",
   "id": "baa4bceb-b307-46a5-8c12-b6043128d97a",
   "metadata": {},
   "source": [
    "# NLP Preprocessing"
   ]
  },
  {
   "cell_type": "markdown",
   "id": "47032b2c-12e2-46d6-8061-db02421b86e3",
   "metadata": {},
   "source": [
    "## 1. Lowercasing"
   ]
  },
  {
   "cell_type": "code",
   "execution_count": 213,
   "id": "39eaa086-e719-4947-9376-c7b76045c9a8",
   "metadata": {},
   "outputs": [
    {
     "data": {
      "text/html": [
       "<div>\n",
       "<style scoped>\n",
       "    .dataframe tbody tr th:only-of-type {\n",
       "        vertical-align: middle;\n",
       "    }\n",
       "\n",
       "    .dataframe tbody tr th {\n",
       "        vertical-align: top;\n",
       "    }\n",
       "\n",
       "    .dataframe thead th {\n",
       "        text-align: right;\n",
       "    }\n",
       "</style>\n",
       "<table border=\"1\" class=\"dataframe\">\n",
       "  <thead>\n",
       "    <tr style=\"text-align: right;\">\n",
       "      <th></th>\n",
       "      <th>title</th>\n",
       "      <th>overview</th>\n",
       "      <th>vote_average</th>\n",
       "      <th>genre_names</th>\n",
       "    </tr>\n",
       "  </thead>\n",
       "  <tbody>\n",
       "    <tr>\n",
       "      <th>0</th>\n",
       "      <td>The Shawshank Redemption</td>\n",
       "      <td>imprisoned in the 1940s for the double murder ...</td>\n",
       "      <td>8.700</td>\n",
       "      <td>drama crime</td>\n",
       "    </tr>\n",
       "    <tr>\n",
       "      <th>1</th>\n",
       "      <td>The Godfather</td>\n",
       "      <td>spanning the years 1945 to 1955 a chronicle of...</td>\n",
       "      <td>8.686</td>\n",
       "      <td>drama crime</td>\n",
       "    </tr>\n",
       "    <tr>\n",
       "      <th>2</th>\n",
       "      <td>The Godfather Part II</td>\n",
       "      <td>in the continuing saga of the corleone crime f...</td>\n",
       "      <td>8.571</td>\n",
       "      <td>drama crime</td>\n",
       "    </tr>\n",
       "    <tr>\n",
       "      <th>3</th>\n",
       "      <td>Schindler's List</td>\n",
       "      <td>the true story of how businessman oskar schind...</td>\n",
       "      <td>8.565</td>\n",
       "      <td>drama history war</td>\n",
       "    </tr>\n",
       "    <tr>\n",
       "      <th>4</th>\n",
       "      <td>12 Angry Men</td>\n",
       "      <td>the defense and the prosecution have rested an...</td>\n",
       "      <td>8.548</td>\n",
       "      <td>drama</td>\n",
       "    </tr>\n",
       "  </tbody>\n",
       "</table>\n",
       "</div>"
      ],
      "text/plain": [
       "                      title  \\\n",
       "0  The Shawshank Redemption   \n",
       "1             The Godfather   \n",
       "2     The Godfather Part II   \n",
       "3          Schindler's List   \n",
       "4              12 Angry Men   \n",
       "\n",
       "                                            overview  vote_average  \\\n",
       "0  imprisoned in the 1940s for the double murder ...         8.700   \n",
       "1  spanning the years 1945 to 1955 a chronicle of...         8.686   \n",
       "2  in the continuing saga of the corleone crime f...         8.571   \n",
       "3  the true story of how businessman oskar schind...         8.565   \n",
       "4  the defense and the prosecution have rested an...         8.548   \n",
       "\n",
       "         genre_names  \n",
       "0        drama crime  \n",
       "1        drama crime  \n",
       "2        drama crime  \n",
       "3  drama history war  \n",
       "4              drama  "
      ]
     },
     "execution_count": 213,
     "metadata": {},
     "output_type": "execute_result"
    }
   ],
   "source": [
    "df['overview'] = df['overview'].str.lower()\n",
    "df['genre_names'] = df['genre_names'].str.lower()\n",
    "df.head()"
   ]
  },
  {
   "cell_type": "markdown",
   "id": "2a88b456-6cd6-4baf-bf2e-a53d6e9a004e",
   "metadata": {},
   "source": [
    "## 2. HTML Tags"
   ]
  },
  {
   "cell_type": "code",
   "execution_count": 157,
   "id": "26c440f6-adff-4257-9df4-9609c287612c",
   "metadata": {},
   "outputs": [],
   "source": [
    "import re\n",
    "def remove_html_tags(text):\n",
    "    pattern = re.compile('<.*?>')\n",
    "    return pattern.sub(r'',text)"
   ]
  },
  {
   "cell_type": "code",
   "execution_count": 161,
   "id": "c23a9814-fc39-4b62-9c5d-ddb893044efa",
   "metadata": {},
   "outputs": [
    {
     "data": {
      "text/plain": [
       "'This text is bold what happen This text is important!This text is italicThis text is emphasizedDo not forget to buy milk today.'"
      ]
     },
     "execution_count": 161,
     "metadata": {},
     "output_type": "execute_result"
    }
   ],
   "source": [
    "text1 = '<br /><br /> Hi how are you </body>'\n",
    "text2 = '<b>This text is bold</b> what happen <strong>This text is important!</strong><i>This text is italic</i><em>This text is emphasized</em><p>Do not forget to buy <mark>milk</mark> today.</p>'\n",
    "remove_html_tags(text2)"
   ]
  },
  {
   "cell_type": "code",
   "execution_count": 165,
   "id": "439c9a8e-6a43-4ffc-8e4e-4fd7d737eb71",
   "metadata": {},
   "outputs": [],
   "source": [
    "df['overview'] = df['overview'].apply(remove_html_tags)"
   ]
  },
  {
   "cell_type": "markdown",
   "id": "d6324210-2cf5-437b-9d1b-5ddbd81feda9",
   "metadata": {},
   "source": [
    "## 3. Remove URL's"
   ]
  },
  {
   "cell_type": "code",
   "execution_count": 184,
   "id": "277fb986-54b9-464c-b22e-52c4cd87542c",
   "metadata": {},
   "outputs": [],
   "source": [
    "def remove_url(text):\n",
    "    pattern = re.compile(r'https?://\\S+|www\\.\\S+')\n",
    "    return pattern.sub(r'',text)"
   ]
  },
  {
   "cell_type": "code",
   "execution_count": 188,
   "id": "b7ae2358-5e18-44cd-93b4-b0b08860b074",
   "metadata": {},
   "outputs": [
    {
     "data": {
      "text/plain": [
       "'welcome to the club. visit  or  here we will learn about nlp text preprocessing  this will help in practice.  and '"
      ]
     },
     "execution_count": 188,
     "metadata": {},
     "output_type": "execute_result"
    }
   ],
   "source": [
    "text = 'welcome to the club. visit www.nlphome.come or https://api.themoviedb.org/3/movie/page=2 here we will learn about nlp text preprocessing http://geeksforgeeks.org this will help in practice. www.lifeishell.org.net and www.udemy.net.'\n",
    "remove_url(text)"
   ]
  },
  {
   "cell_type": "markdown",
   "id": "55cd9798-8b83-4d59-9f4a-acc0b28ab2d8",
   "metadata": {},
   "source": [
    "## Contractions\n",
    " - words like can't, it's **expanded** to can not and it is for better interpretation."
   ]
  },
  {
   "cell_type": "code",
   "execution_count": 3,
   "id": "9aca38c8-bfe4-4253-bc3e-58a25a962199",
   "metadata": {},
   "outputs": [],
   "source": [
    "import contractions\n",
    "def expand_short_words(text:str) -> str: #text as input str showing string type & ->str means output as str type\n",
    "    return contractions.fix(text)"
   ]
  },
  {
   "cell_type": "code",
   "execution_count": 9,
   "id": "97424401-3ff8-4ea2-b890-17fcd22921e5",
   "metadata": {},
   "outputs": [
    {
     "data": {
      "text/plain": [
       "'i am'"
      ]
     },
     "execution_count": 9,
     "metadata": {},
     "output_type": "execute_result"
    }
   ],
   "source": [
    "expand_short_words(\"im\")"
   ]
  },
  {
   "cell_type": "markdown",
   "id": "9a28606d-874d-4c50-b497-b023c939fdf8",
   "metadata": {},
   "source": [
    "## 4. Remove Punctuation"
   ]
  },
  {
   "cell_type": "code",
   "execution_count": 191,
   "id": "02e4c7b5-c47b-4322-ad5d-7c2e96cf3bec",
   "metadata": {},
   "outputs": [
    {
     "data": {
      "text/plain": [
       "'!\"#$%&\\'()*+,-./:;<=>?@[\\\\]^_`{|}~'"
      ]
     },
     "execution_count": 191,
     "metadata": {},
     "output_type": "execute_result"
    }
   ],
   "source": [
    "# one way\n",
    "import string\n",
    "string.punctuation\n"
   ]
  },
  {
   "cell_type": "code",
   "execution_count": 193,
   "id": "bd7baee6-a48a-487b-bb0f-1517691bf1a4",
   "metadata": {},
   "outputs": [],
   "source": [
    "exclude = string.punctuation\n",
    "def remove_punc0(text):\n",
    "    for char in exclude:\n",
    "        text = text.replace(char,'')\n",
    "    return text"
   ]
  },
  {
   "cell_type": "code",
   "execution_count": 195,
   "id": "73fba180-0a80-40cc-b59b-f0f9fe464155",
   "metadata": {},
   "outputs": [
    {
     "data": {
      "text/plain": [
       "'toaday people use emoji instead of words so funny what you say tell me'"
      ]
     },
     "execution_count": 195,
     "metadata": {},
     "output_type": "execute_result"
    }
   ],
   "source": [
    "text = 'toaday, people use emoji instead of words, so funny!! what you say? tell me.'\n",
    "remove_punc0(text)"
   ]
  },
  {
   "cell_type": "code",
   "execution_count": 199,
   "id": "2690c86b-5fcb-4397-b586-bbac43d606ad",
   "metadata": {},
   "outputs": [],
   "source": [
    "# Faster way\n",
    "\n",
    "def remove_punc(text):\n",
    "    return text.translate(str.maketrans('','',exclude))"
   ]
  },
  {
   "cell_type": "code",
   "execution_count": 201,
   "id": "01dba32e-5127-4135-8516-75f12146a694",
   "metadata": {},
   "outputs": [
    {
     "data": {
      "text/plain": [
       "'toaday people use emoji instead of words so funny what you say tell me'"
      ]
     },
     "execution_count": 201,
     "metadata": {},
     "output_type": "execute_result"
    }
   ],
   "source": [
    "remove_punc(text)"
   ]
  },
  {
   "cell_type": "code",
   "execution_count": 209,
   "id": "70d22a8b-53a8-41b3-9b9f-f58e88668637",
   "metadata": {},
   "outputs": [],
   "source": [
    "df['overview'] = df['overview'].apply(remove_punc)\n",
    "df['genre_names'] = df['genre_names'].apply(remove_punc)"
   ]
  },
  {
   "cell_type": "code",
   "execution_count": 215,
   "id": "14fed31f-9d2d-4695-be55-90efdc056565",
   "metadata": {},
   "outputs": [
    {
     "data": {
      "text/html": [
       "<div>\n",
       "<style scoped>\n",
       "    .dataframe tbody tr th:only-of-type {\n",
       "        vertical-align: middle;\n",
       "    }\n",
       "\n",
       "    .dataframe tbody tr th {\n",
       "        vertical-align: top;\n",
       "    }\n",
       "\n",
       "    .dataframe thead th {\n",
       "        text-align: right;\n",
       "    }\n",
       "</style>\n",
       "<table border=\"1\" class=\"dataframe\">\n",
       "  <thead>\n",
       "    <tr style=\"text-align: right;\">\n",
       "      <th></th>\n",
       "      <th>title</th>\n",
       "      <th>overview</th>\n",
       "      <th>vote_average</th>\n",
       "      <th>genre_names</th>\n",
       "    </tr>\n",
       "  </thead>\n",
       "  <tbody>\n",
       "    <tr>\n",
       "      <th>0</th>\n",
       "      <td>The Shawshank Redemption</td>\n",
       "      <td>imprisoned in the 1940s for the double murder ...</td>\n",
       "      <td>8.700</td>\n",
       "      <td>drama crime</td>\n",
       "    </tr>\n",
       "    <tr>\n",
       "      <th>1</th>\n",
       "      <td>The Godfather</td>\n",
       "      <td>spanning the years 1945 to 1955 a chronicle of...</td>\n",
       "      <td>8.686</td>\n",
       "      <td>drama crime</td>\n",
       "    </tr>\n",
       "  </tbody>\n",
       "</table>\n",
       "</div>"
      ],
      "text/plain": [
       "                      title  \\\n",
       "0  The Shawshank Redemption   \n",
       "1             The Godfather   \n",
       "\n",
       "                                            overview  vote_average  \\\n",
       "0  imprisoned in the 1940s for the double murder ...         8.700   \n",
       "1  spanning the years 1945 to 1955 a chronicle of...         8.686   \n",
       "\n",
       "   genre_names  \n",
       "0  drama crime  \n",
       "1  drama crime  "
      ]
     },
     "execution_count": 215,
     "metadata": {},
     "output_type": "execute_result"
    }
   ],
   "source": [
    "df.head(2)"
   ]
  },
  {
   "cell_type": "markdown",
   "id": "b232e4dc-ab33-4393-b396-3bf61e7a26c6",
   "metadata": {},
   "source": [
    "## 5. Chat Word Treatment\n",
    "- Shortcuts like gn, rofl, lol, asap, fyi etc."
   ]
  },
  {
   "cell_type": "code",
   "execution_count": 222,
   "id": "a2e8c9a3-3b0b-4d15-8757-e0e8340d284a",
   "metadata": {},
   "outputs": [],
   "source": [
    "chat_words = {\n",
    "    \"$\" : \" dollar \",\n",
    "    \"€\" : \" euro \",\n",
    "    \"4ao\" : \"for adults only\",\n",
    "    \"a.m\" : \"before midday\",\n",
    "    \"a3\" : \"anytime anywhere anyplace\",\n",
    "    \"aamof\" : \"as a matter of fact\",\n",
    "    \"acct\" : \"account\",\n",
    "    \"adih\" : \"another day in hell\",\n",
    "    \"afaic\" : \"as far as i am concerned\",\n",
    "    \"afaict\" : \"as far as i can tell\",\n",
    "    \"afaik\" : \"as far as i know\",\n",
    "    \"afair\" : \"as far as i remember\",\n",
    "    \"afk\" : \"away from keyboard\",\n",
    "    \"app\" : \"application\",\n",
    "    \"approx\" : \"approximately\",\n",
    "    \"apps\" : \"applications\",\n",
    "    \"asap\" : \"as soon as possible\",\n",
    "    \"asl\" : \"age, sex, location\",\n",
    "    \"atk\" : \"at the keyboard\",\n",
    "    \"ave.\" : \"avenue\",\n",
    "    \"aymm\" : \"are you my mother\",\n",
    "    \"ayor\" : \"at your own risk\", \n",
    "    \"b&b\" : \"bed and breakfast\",\n",
    "    \"b+b\" : \"bed and breakfast\",\n",
    "    \"b.c\" : \"before christ\",\n",
    "    \"b2b\" : \"business to business\",\n",
    "    \"b2c\" : \"business to customer\",\n",
    "    \"b4\" : \"before\",\n",
    "    \"b4n\" : \"bye for now\",\n",
    "    \"b@u\" : \"back at you\",\n",
    "    \"bae\" : \"before anyone else\",\n",
    "    \"bak\" : \"back at keyboard\",\n",
    "    \"bbbg\" : \"bye bye be good\",\n",
    "    \"bbc\" : \"british broadcasting corporation\",\n",
    "    \"bbias\" : \"be back in a second\",\n",
    "    \"bbl\" : \"be back later\",\n",
    "    \"bbs\" : \"be back soon\",\n",
    "    \"be4\" : \"before\",\n",
    "    \"bfn\" : \"bye for now\",\n",
    "    \"blvd\" : \"boulevard\",\n",
    "    \"bout\" : \"about\",\n",
    "    \"brb\" : \"be right back\",\n",
    "    \"bros\" : \"brothers\",\n",
    "    \"brt\" : \"be right there\",\n",
    "    \"bsaaw\" : \"big smile and a wink\",\n",
    "    \"btw\" : \"by the way\",\n",
    "    \"bwl\" : \"bursting with laughter\",\n",
    "    \"c/o\" : \"care of\",\n",
    "    \"cet\" : \"central european time\",\n",
    "    \"cf\" : \"compare\",\n",
    "    \"cia\" : \"central intelligence agency\",\n",
    "    \"csl\" : \"can not stop laughing\",\n",
    "    \"cu\" : \"see you\",\n",
    "    \"cul8r\" : \"see you later\",\n",
    "    \"cv\" : \"curriculum vitae\",\n",
    "    \"cwot\" : \"complete waste of time\",\n",
    "    \"cya\" : \"see you\",\n",
    "    \"cyt\" : \"see you tomorrow\",\n",
    "    \"dae\" : \"does anyone else\",\n",
    "    \"dbmib\" : \"do not bother me i am busy\",\n",
    "    \"diy\" : \"do it yourself\",\n",
    "    \"dm\" : \"direct message\",\n",
    "    \"dwh\" : \"during work hours\",\n",
    "    \"e123\" : \"easy as one two three\",\n",
    "    \"eet\" : \"eastern european time\",\n",
    "    \"eg\" : \"example\",\n",
    "    \"embm\" : \"early morning business meeting\",\n",
    "    \"encl\" : \"enclosed\",\n",
    "    \"encl.\" : \"enclosed\",\n",
    "    \"etc\" : \"and so on\",\n",
    "    \"faq\" : \"frequently asked questions\",\n",
    "    \"fawc\" : \"for anyone who cares\",\n",
    "    \"fb\" : \"facebook\",\n",
    "    \"fc\" : \"fingers crossed\",\n",
    "    \"fig\" : \"figure\",\n",
    "    \"fimh\" : \"forever in my heart\", \n",
    "    \"ft.\" : \"feet\",\n",
    "    \"ft\" : \"featuring\",\n",
    "    \"ftl\" : \"for the loss\",\n",
    "    \"ftw\" : \"for the win\",\n",
    "    \"fwiw\" : \"for what it is worth\",\n",
    "    \"fyi\" : \"for your information\",\n",
    "    \"g9\" : \"genius\",\n",
    "    \"gahoy\" : \"get a hold of yourself\",\n",
    "    \"gal\" : \"get a life\",\n",
    "    \"gcse\" : \"general certificate of secondary education\",\n",
    "    \"gfn\" : \"gone for now\",\n",
    "    \"gg\" : \"good game\",\n",
    "    \"gl\" : \"good luck\",\n",
    "    \"glhf\" : \"good luck have fun\",\n",
    "    \"gmt\" : \"greenwich mean time\",\n",
    "    \"gmta\" : \"great minds think alike\",\n",
    "    \"gn\" : \"good night\",\n",
    "    \"g.o.a.t\" : \"greatest of all time\",\n",
    "    \"goat\" : \"greatest of all time\",\n",
    "    \"goi\" : \"get over it\",\n",
    "    \"gps\" : \"global positioning system\",\n",
    "    \"gr8\" : \"great\",\n",
    "    \"gratz\" : \"congratulations\",\n",
    "    \"gyal\" : \"girl\",\n",
    "    \"h&c\" : \"hot and cold\",\n",
    "    \"hp\" : \"horsepower\",\n",
    "    \"hr\" : \"hour\",\n",
    "    \"hrh\" : \"his royal highness\",\n",
    "    \"ht\" : \"height\",\n",
    "    \"ibrb\" : \"i will be right back\",\n",
    "    \"ic\" : \"i see\",\n",
    "    \"icq\" : \"i seek you\",\n",
    "    \"icymi\" : \"in case you missed it\",\n",
    "    \"idc\" : \"i do not care\",\n",
    "    \"idgadf\" : \"i do not give a damn fuck\",\n",
    "    \"idgaf\" : \"i do not give a fuck\",\n",
    "    \"idk\" : \"i do not know\",\n",
    "    \"ie\" : \"that is\",\n",
    "    \"i.e\" : \"that is\",\n",
    "    \"ifyp\" : \"i feel your pain\",\n",
    "    \"ig\" : \"instagram\",\n",
    "    \"iirc\" : \"if i remember correctly\",\n",
    "    \"ilu\" : \"i love you\",\n",
    "    \"ily\" : \"i love you\",\n",
    "    \"imho\" : \"in my humble opinion\",\n",
    "    \"imo\" : \"in my opinion\",\n",
    "    \"imu\" : \"i miss you\",\n",
    "    \"iow\" : \"in other words\",\n",
    "    \"irl\" : \"in real life\",\n",
    "    \"j4f\" : \"just for fun\",\n",
    "    \"jic\" : \"just in case\",\n",
    "    \"jk\" : \"just kidding\",\n",
    "    \"jsyk\" : \"just so you know\",\n",
    "    \"l8r\" : \"later\",\n",
    "    \"lb\" : \"pound\",\n",
    "    \"lbs\" : \"pounds\",\n",
    "    \"ldr\" : \"long distance relationship\",\n",
    "    \"lmao\" : \"laugh my ass off\",\n",
    "    \"lmfao\" : \"laugh my fucking ass off\",\n",
    "    \"lol\" : \"laughing out loud\",\n",
    "    \"ltd\" : \"limited\",\n",
    "    \"ltns\" : \"long time no see\",\n",
    "    \"m8\" : \"mate\",\n",
    "    \"mf\" : \"motherfucker\",\n",
    "    \"mfs\" : \"motherfuckers\",\n",
    "    \"mfw\" : \"my face when\",\n",
    "    \"mofo\" : \"motherfucker\",\n",
    "    \"mph\" : \"miles per hour\",\n",
    "    \"mr\" : \"mister\",\n",
    "    \"mrw\" : \"my reaction when\",\n",
    "    \"ms\" : \"miss\",\n",
    "    \"mte\" : \"my thoughts exactly\",\n",
    "    \"nagi\" : \"not a good idea\",\n",
    "    \"nbc\" : \"national broadcasting company\",\n",
    "    \"nbd\" : \"not big deal\",\n",
    "    \"nfs\" : \"not for sale\",\n",
    "    \"ngl\" : \"not going to lie\",\n",
    "    \"nhs\" : \"national health service\",\n",
    "    \"nrn\" : \"no reply necessary\",\n",
    "    \"nsfl\" : \"not safe for life\",\n",
    "    \"nsfw\" : \"not safe for work\",\n",
    "    \"nth\" : \"nice to have\",\n",
    "    \"nvr\" : \"never\",\n",
    "    \"nyc\" : \"new york city\",\n",
    "    \"oc\" : \"original content\",\n",
    "    \"og\" : \"original\",\n",
    "    \"ohp\" : \"overhead projector\",\n",
    "    \"oic\" : \"oh i see\",\n",
    "    \"omdb\" : \"over my dead body\",\n",
    "    \"omg\" : \"oh my god\",\n",
    "    \"omw\" : \"on my way\",\n",
    "    \"p.a\" : \"per annum\",\n",
    "    \"p.m\" : \"after midday\",\n",
    "    \"pm\" : \"prime minister\",\n",
    "    \"poc\" : \"people of color\",\n",
    "    \"pov\" : \"point of view\",\n",
    "    \"pp\" : \"pages\",\n",
    "    \"ppl\" : \"people\",\n",
    "    \"prw\" : \"parents are watching\",\n",
    "    \"ps\" : \"postscript\",\n",
    "    \"pt\" : \"point\",\n",
    "    \"ptb\" : \"please text back\",\n",
    "    \"pto\" : \"please turn over\",\n",
    "    \"qpsa\" : \"what happens\", #\"que pasa\",\n",
    "    \"r\" : \"are\",\n",
    "    \"ratchet\" : \"rude\",\n",
    "    \"rbtl\" : \"read between the lines\",\n",
    "    \"rlrt\" : \"real life retweet\", \n",
    "    \"rofl\" : \"rolling on the floor laughing\",\n",
    "    \"roflol\" : \"rolling on the floor laughing out loud\",\n",
    "    \"rotflmao\" : \"rolling on the floor laughing my ass off\",\n",
    "    \"rt\" : \"retweet\",\n",
    "    \"ruok\" : \"are you ok\",\n",
    "    \"sfw\" : \"safe for work\",\n",
    "    \"sk8\" : \"skate\",\n",
    "    \"smh\" : \"shake my head\",\n",
    "    \"sq\" : \"square\",\n",
    "    \"srsly\" : \"seriously\", \n",
    "    \"ssdd\" : \"same stuff different day\",\n",
    "    \"tbh\" : \"to be honest\",\n",
    "    \"tbs\" : \"tablespooful\",\n",
    "    \"tbsp\" : \"tablespooful\",\n",
    "    \"tfw\" : \"that feeling when\",\n",
    "    \"thks\" : \"thank you\",\n",
    "    \"tho\" : \"though\",\n",
    "    \"thx\" : \"thank you\",\n",
    "    \"tia\" : \"thanks in advance\",\n",
    "    \"til\" : \"today i learned\",\n",
    "    \"tl;dr\" : \"too long i did not read\",\n",
    "    \"tldr\" : \"too long i did not read\",\n",
    "    \"tmb\" : \"tweet me back\",\n",
    "    \"tntl\" : \"trying not to laugh\",\n",
    "    \"ttyl\" : \"talk to you later\",\n",
    "    \"u\" : \"you\",\n",
    "    \"u2\" : \"you too\",\n",
    "    \"u4e\" : \"yours for ever\",\n",
    "    \"utc\" : \"coordinated universal time\",\n",
    "    \"w/\" : \"with\",\n",
    "    \"w/o\" : \"without\",\n",
    "    \"w8\" : \"wait\",\n",
    "    \"wassup\" : \"what is up\",\n",
    "    \"wb\" : \"welcome back\",\n",
    "    \"wtf\" : \"what the fuck\",\n",
    "    \"wtg\" : \"way to go\",\n",
    "    \"wtpa\" : \"where the party at\",\n",
    "    \"wuf\" : \"where are you from\",\n",
    "    \"wuzup\" : \"what is up\",\n",
    "    \"wywh\" : \"wish you were here\",\n",
    "    \"yd\" : \"yard\",\n",
    "    \"ygtr\" : \"you got that right\",\n",
    "    \"ynk\" : \"you never know\",\n",
    "    \"zzz\" : \"sleeping bored and tired\"\n",
    "}"
   ]
  },
  {
   "cell_type": "code",
   "execution_count": 236,
   "id": "7f002436-9907-433b-b4ad-cc72af4e0596",
   "metadata": {},
   "outputs": [],
   "source": [
    "\n",
    "def char_conversion(text):\n",
    "    new_text = []\n",
    "    for w in text.split():\n",
    "        if w.lower() in chat_words:\n",
    "            new_text.append(chat_words[w.lower()])\n",
    "        else:\n",
    "            new_text.append(w)\n",
    "    return \" \".join(new_text)"
   ]
  },
  {
   "cell_type": "code",
   "execution_count": 242,
   "id": "4b5de875-0233-4f15-91af-9b2f794fc501",
   "metadata": {},
   "outputs": [
    {
     "data": {
      "text/plain": [
       "'hey buddy what is up how you doing, wanna hang out. reply as soon as possible . for your information we are done'"
      ]
     },
     "execution_count": 242,
     "metadata": {},
     "output_type": "execute_result"
    }
   ],
   "source": [
    "text = 'hey buddy wassup how u doing, wanna hang out. reply ASAP . FYI we r done'\n",
    "char_conversion(text)"
   ]
  },
  {
   "cell_type": "markdown",
   "id": "53c283eb-de48-4cf9-a3e3-a02a8e68b2d1",
   "metadata": {},
   "source": [
    "## 6. Spelling Mistake\n",
    "- other lib can also be used like spacy, nltk, pyspellchecker"
   ]
  },
  {
   "cell_type": "code",
   "execution_count": 251,
   "id": "009fb3f3-83b6-42e7-9549-75b793ead370",
   "metadata": {},
   "outputs": [],
   "source": [
    "from textblob import TextBlob\n",
    "def spell_check(text):\n",
    "    textblb = TextBlob(text)\n",
    "    correct = textblb.correct().string\n",
    "    return correct"
   ]
  },
  {
   "cell_type": "code",
   "execution_count": 255,
   "id": "bfa72ba4-2ff2-4d11-a10b-ca416a3bff5f",
   "metadata": {},
   "outputs": [
    {
     "data": {
      "text/plain": [
       "'have a nice day. Today weather is good.'"
      ]
     },
     "execution_count": 255,
     "metadata": {},
     "output_type": "execute_result"
    }
   ],
   "source": [
    "text = 'have a nic day. Todday weathar is goud.'\n",
    "spell_check(text)"
   ]
  },
  {
   "cell_type": "markdown",
   "id": "fa6ce1ca-8afe-4801-b8e9-d85844e6cf6c",
   "metadata": {},
   "source": [
    "## 7. Removing Stop Words"
   ]
  },
  {
   "cell_type": "code",
   "execution_count": 3,
   "id": "6031e53e-d353-4de6-8262-53f12476c8dc",
   "metadata": {},
   "outputs": [
    {
     "name": "stderr",
     "output_type": "stream",
     "text": [
      "[nltk_data] Downloading package stopwords to\n",
      "[nltk_data]     C:\\Users\\piyus\\AppData\\Roaming\\nltk_data...\n",
      "[nltk_data]   Unzipping corpora\\stopwords.zip.\n"
     ]
    },
    {
     "data": {
      "text/plain": [
       "True"
      ]
     },
     "execution_count": 3,
     "metadata": {},
     "output_type": "execute_result"
    }
   ],
   "source": [
    "import nltk\n",
    "nltk.download('stopwords')"
   ]
  },
  {
   "cell_type": "code",
   "execution_count": 33,
   "id": "735d12a7-2c0a-4c65-8a9b-77195cf3e87d",
   "metadata": {},
   "outputs": [],
   "source": [
    "from nltk.corpus import stopwords\n",
    "eng_words = stopwords.words('english')\n",
    "\n",
    "def remove_stop_words(text):\n",
    "    new_text = []\n",
    "    for word in text.split():\n",
    "        if word not in eng_words:\n",
    "            new_text.append(word)\n",
    "    return \" \".join(new_text)\n",
    "    "
   ]
  },
  {
   "cell_type": "code",
   "execution_count": 35,
   "id": "ff08d3c5-40db-41f1-90f6-28e0fe01d26b",
   "metadata": {},
   "outputs": [
    {
     "data": {
      "text/plain": [
       "'World counts India. I boy blast shall'"
      ]
     },
     "execution_count": 35,
     "metadata": {},
     "output_type": "execute_result"
    }
   ],
   "source": [
    "text = 'World counts on India. I am a boy and we are having a blast is am are and was were has will shall of for in on'\n",
    "remove_stop_words(text)"
   ]
  },
  {
   "cell_type": "markdown",
   "id": "5e77c241-8f9a-4395-b7b4-5626700e4caf",
   "metadata": {},
   "source": [
    "## 8. Handling Emoji's"
   ]
  },
  {
   "cell_type": "code",
   "execution_count": 42,
   "id": "32c26dc1-e730-4728-9c64-df1e378028d4",
   "metadata": {},
   "outputs": [],
   "source": [
    "## Removing Emoji's\n",
    "\n",
    "import re\n",
    "def remove_emoji(text):\n",
    "    emoji_pattern = re.compile(\"[\"u\"\\U0001F600-\\U0001F64F\" # emotions\n",
    "                               u\"\\U0001F300-\\U0001F5FF\"    # symbols and pictographs\n",
    "                               u\"\\U0001F680-\\U0001F6FF\"    # transport and map symbols\n",
    "                               u\"\\U0001F1E0-\\U0001F1FF\"    # Flags\n",
    "                               u\"\\U00002702-\\U00002780\"\n",
    "                               u\"\\U000024C2-\\U0001F251\"\"]+\", flags=re.UNICODE)\n",
    "    return emoji_pattern.sub(r'', text)"
   ]
  },
  {
   "cell_type": "code",
   "execution_count": 62,
   "id": "bbaec93f-6086-46ae-a1e2-fd453c2ffdd6",
   "metadata": {},
   "outputs": [
    {
     "data": {
      "text/plain": [
       "'🥳 ati sundar, great teamwork guys all 4 projects completed\\xa0'"
      ]
     },
     "execution_count": 62,
     "metadata": {},
     "output_type": "execute_result"
    }
   ],
   "source": [
    "text = '👌🥳💥💥 ati sundar, great teamwork guys all 4 projects completed 👍👏'\n",
    "remove_emoji(text)"
   ]
  },
  {
   "cell_type": "code",
   "execution_count": 50,
   "id": "68b82066-feb5-4572-bb71-fc90d290d452",
   "metadata": {},
   "outputs": [
    {
     "data": {
      "text/plain": [
       "':OK_hand_light_skin_tone::partying_face::collision::collision: ati sundar, great teamwork guys all 4 projects completed\\xa0:thumbs_up::clapping_hands:'"
      ]
     },
     "execution_count": 50,
     "metadata": {},
     "output_type": "execute_result"
    }
   ],
   "source": [
    "## Replacing with text\n",
    "\n",
    "import emoji\n",
    "emoji.demojize(text)"
   ]
  },
  {
   "cell_type": "markdown",
   "id": "968583fd-9599-406b-8fb3-2f06ace567c8",
   "metadata": {},
   "source": [
    "#### removing emoji with emoji library"
   ]
  },
  {
   "cell_type": "code",
   "execution_count": 64,
   "id": "6a1f8b6a-7377-4a32-9b76-92ce9a8be047",
   "metadata": {},
   "outputs": [
    {
     "data": {
      "text/plain": [
       "' ati sundar, great teamwork guys all 4 projects completed\\xa0'"
      ]
     },
     "execution_count": 64,
     "metadata": {},
     "output_type": "execute_result"
    }
   ],
   "source": [
    "emoji.replace_emoji(text,'')"
   ]
  },
  {
   "cell_type": "code",
   "execution_count": null,
   "id": "bc6b9185-64af-414e-a955-15d01867c9bb",
   "metadata": {},
   "outputs": [],
   "source": []
  }
 ],
 "metadata": {
  "kernelspec": {
   "display_name": "Python [conda env:base] *",
   "language": "python",
   "name": "conda-base-py"
  },
  "language_info": {
   "codemirror_mode": {
    "name": "ipython",
    "version": 3
   },
   "file_extension": ".py",
   "mimetype": "text/x-python",
   "name": "python",
   "nbconvert_exporter": "python",
   "pygments_lexer": "ipython3",
   "version": "3.12.7"
  }
 },
 "nbformat": 4,
 "nbformat_minor": 5
}
