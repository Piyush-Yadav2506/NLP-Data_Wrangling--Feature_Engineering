{
 "cells": [
  {
   "cell_type": "markdown",
   "id": "38cc084f-dddc-4fd3-86fa-615978bc5acc",
   "metadata": {},
   "source": [
    "- Stemming means converting the word to their root stem which have same meaning like run, runs, running all points main work as run\n",
    "- so it will bring them to run this way we will have only word in our corpus less tokens"
   ]
  },
  {
   "cell_type": "code",
   "execution_count": 2,
   "id": "d5ddba62-3766-4aee-af72-f5f5c32d9358",
   "metadata": {},
   "outputs": [],
   "source": [
    "words = ['processing','process','processed','running','runs','run','ran','program','programmed','programming',\n",
    "        'fly','flew','flying','eat','eating','ate']"
   ]
  },
  {
   "cell_type": "markdown",
   "id": "d491bdc2-9d9c-4194-add9-9e5995319c75",
   "metadata": {},
   "source": [
    "## Porter Stemmer"
   ]
  },
  {
   "cell_type": "code",
   "execution_count": 4,
   "id": "0680761a-78dc-4822-9321-59706d3b71d2",
   "metadata": {},
   "outputs": [],
   "source": [
    "from nltk.stem import PorterStemmer\n",
    "stemmer = PorterStemmer()"
   ]
  },
  {
   "cell_type": "code",
   "execution_count": 6,
   "id": "45f17b21-7c3d-484c-927a-36f6f1cfda0b",
   "metadata": {},
   "outputs": [
    {
     "name": "stdout",
     "output_type": "stream",
     "text": [
      "processing root word or base form is ---------> process\n",
      "process root word or base form is ---------> process\n",
      "processed root word or base form is ---------> process\n",
      "running root word or base form is ---------> run\n",
      "runs root word or base form is ---------> run\n",
      "run root word or base form is ---------> run\n",
      "ran root word or base form is ---------> ran\n",
      "program root word or base form is ---------> program\n",
      "programmed root word or base form is ---------> program\n",
      "programming root word or base form is ---------> program\n",
      "fly root word or base form is ---------> fli\n",
      "flew root word or base form is ---------> flew\n",
      "flying root word or base form is ---------> fli\n",
      "eat root word or base form is ---------> eat\n",
      "eating root word or base form is ---------> eat\n",
      "ate root word or base form is ---------> ate\n"
     ]
    }
   ],
   "source": [
    "for word in words:\n",
    "    print(f'{word} root word or base form is ---------> {stemmer.stem(word)}')"
   ]
  },
  {
   "cell_type": "code",
   "execution_count": 8,
   "id": "db515aa6-f8b8-4407-af99-e857796de9f3",
   "metadata": {},
   "outputs": [],
   "source": [
    "## It has con like fly flew flying should be fly same way ate and ran"
   ]
  },
  {
   "cell_type": "markdown",
   "id": "e25d4797-4014-4eef-9d48-54edf7d081e4",
   "metadata": {},
   "source": [
    "## Regexp Stemmer"
   ]
  },
  {
   "cell_type": "code",
   "execution_count": 16,
   "id": "a573234a-032f-4e48-913f-1ad7dca64c95",
   "metadata": {},
   "outputs": [],
   "source": [
    "from nltk.stem import RegexpStemmer\n",
    "reg_stem = RegexpStemmer('ing$|s$|e$|able$', min=4)  # this mean wherever suffix has this 'ing','s' etc. remove them $ mean suffix if no\n",
    "                                                     # no $ then suffix prefix both considered"
   ]
  },
  {
   "cell_type": "code",
   "execution_count": 14,
   "id": "64beadf8-dc6c-4ae9-86e6-68999de05055",
   "metadata": {},
   "outputs": [
    {
     "data": {
      "text/plain": [
       "'fly'"
      ]
     },
     "execution_count": 14,
     "metadata": {},
     "output_type": "execute_result"
    }
   ],
   "source": [
    "reg_stem.stem('flying')"
   ]
  },
  {
   "cell_type": "markdown",
   "id": "641fe6ab-ec5f-4e48-8c8d-8b31f34f63a8",
   "metadata": {},
   "source": [
    "## Snowball Stemmer"
   ]
  },
  {
   "cell_type": "code",
   "execution_count": 25,
   "id": "c696972d-4a49-4efb-bcfb-32f4b32e047e",
   "metadata": {},
   "outputs": [],
   "source": [
    "from nltk.stem import SnowballStemmer\n",
    "snowball = SnowballStemmer('english')"
   ]
  },
  {
   "cell_type": "code",
   "execution_count": 29,
   "id": "c1173525-e0ad-4d1c-8feb-b19b24e76a01",
   "metadata": {},
   "outputs": [
    {
     "name": "stdout",
     "output_type": "stream",
     "text": [
      "processing root word or base form is ---------> process\n",
      "process root word or base form is ---------> process\n",
      "processed root word or base form is ---------> process\n",
      "running root word or base form is ---------> run\n",
      "runs root word or base form is ---------> run\n",
      "run root word or base form is ---------> run\n",
      "ran root word or base form is ---------> ran\n",
      "program root word or base form is ---------> program\n",
      "programmed root word or base form is ---------> program\n",
      "programming root word or base form is ---------> program\n",
      "fly root word or base form is ---------> fli\n",
      "flew root word or base form is ---------> flew\n",
      "flying root word or base form is ---------> fli\n",
      "eat root word or base form is ---------> eat\n",
      "eating root word or base form is ---------> eat\n",
      "ate root word or base form is ---------> ate\n"
     ]
    }
   ],
   "source": [
    "for word in words:\n",
    "    print(f'{word} root word or base form is ---------> {snowball.stem(word)}')"
   ]
  },
  {
   "cell_type": "code",
   "execution_count": 33,
   "id": "99586ff7-4e29-4911-bd9a-7980b3fda3b7",
   "metadata": {},
   "outputs": [
    {
     "data": {
      "text/plain": [
       "('fairli', 'posit')"
      ]
     },
     "execution_count": 33,
     "metadata": {},
     "output_type": "execute_result"
    }
   ],
   "source": [
    "stemmer.stem('fairly'), stemmer.stem('positively')"
   ]
  },
  {
   "cell_type": "code",
   "execution_count": 35,
   "id": "1b3948b3-73e7-4a53-9666-edf4e0b2d446",
   "metadata": {},
   "outputs": [
    {
     "data": {
      "text/plain": [
       "('fair', 'posit')"
      ]
     },
     "execution_count": 35,
     "metadata": {},
     "output_type": "execute_result"
    }
   ],
   "source": [
    "snowball.stem('fairly'), snowball.stem('positively')"
   ]
  },
  {
   "cell_type": "code",
   "execution_count": null,
   "id": "6b9b4274-4c5f-47f3-b5e1-a9364cc18a6a",
   "metadata": {},
   "outputs": [],
   "source": []
  }
 ],
 "metadata": {
  "kernelspec": {
   "display_name": "Python [conda env:base] *",
   "language": "python",
   "name": "conda-base-py"
  },
  "language_info": {
   "codemirror_mode": {
    "name": "ipython",
    "version": 3
   },
   "file_extension": ".py",
   "mimetype": "text/x-python",
   "name": "python",
   "nbconvert_exporter": "python",
   "pygments_lexer": "ipython3",
   "version": "3.12.7"
  }
 },
 "nbformat": 4,
 "nbformat_minor": 5
}
