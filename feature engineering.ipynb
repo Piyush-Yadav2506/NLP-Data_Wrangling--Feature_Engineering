{
 "cells": [
  {
   "cell_type": "code",
   "execution_count": 8,
   "id": "100793b8-1a59-4532-a586-5649690cd0dd",
   "metadata": {},
   "outputs": [],
   "source": [
    "import pandas as pd"
   ]
  },
  {
   "cell_type": "code",
   "execution_count": 9,
   "id": "b67f25e0-47f4-4d0d-bce3-e15d198f9c82",
   "metadata": {},
   "outputs": [],
   "source": [
    "lst = {'text':['people watch youtube','youtube watch youtube','people write comment','youtube write comment'],\n",
    "'output':[0,0,1,1]}"
   ]
  },
  {
   "cell_type": "code",
   "execution_count": 10,
   "id": "ec17beba-7797-401a-8740-bdff867a67ca",
   "metadata": {},
   "outputs": [],
   "source": [
    "df = pd.DataFrame(lst)"
   ]
  },
  {
   "cell_type": "code",
   "execution_count": 11,
   "id": "e1e11412-9d15-47fc-8a95-0532157c9c81",
   "metadata": {},
   "outputs": [
    {
     "data": {
      "text/html": [
       "<div>\n",
       "<style scoped>\n",
       "    .dataframe tbody tr th:only-of-type {\n",
       "        vertical-align: middle;\n",
       "    }\n",
       "\n",
       "    .dataframe tbody tr th {\n",
       "        vertical-align: top;\n",
       "    }\n",
       "\n",
       "    .dataframe thead th {\n",
       "        text-align: right;\n",
       "    }\n",
       "</style>\n",
       "<table border=\"1\" class=\"dataframe\">\n",
       "  <thead>\n",
       "    <tr style=\"text-align: right;\">\n",
       "      <th></th>\n",
       "      <th>text</th>\n",
       "      <th>output</th>\n",
       "    </tr>\n",
       "  </thead>\n",
       "  <tbody>\n",
       "    <tr>\n",
       "      <th>0</th>\n",
       "      <td>people watch youtube</td>\n",
       "      <td>0</td>\n",
       "    </tr>\n",
       "    <tr>\n",
       "      <th>1</th>\n",
       "      <td>youtube watch youtube</td>\n",
       "      <td>0</td>\n",
       "    </tr>\n",
       "    <tr>\n",
       "      <th>2</th>\n",
       "      <td>people write comment</td>\n",
       "      <td>1</td>\n",
       "    </tr>\n",
       "    <tr>\n",
       "      <th>3</th>\n",
       "      <td>youtube write comment</td>\n",
       "      <td>1</td>\n",
       "    </tr>\n",
       "  </tbody>\n",
       "</table>\n",
       "</div>"
      ],
      "text/plain": [
       "                    text  output\n",
       "0   people watch youtube       0\n",
       "1  youtube watch youtube       0\n",
       "2   people write comment       1\n",
       "3  youtube write comment       1"
      ]
     },
     "execution_count": 11,
     "metadata": {},
     "output_type": "execute_result"
    }
   ],
   "source": [
    "df"
   ]
  },
  {
   "cell_type": "markdown",
   "id": "d3e79001-ac6b-4721-a920-bb0ded4376ab",
   "metadata": {},
   "source": [
    "## Bag of words"
   ]
  },
  {
   "cell_type": "code",
   "execution_count": 13,
   "id": "e32d55e8-acdf-45fc-8f39-2b960b7e8cb1",
   "metadata": {},
   "outputs": [],
   "source": [
    "from sklearn.feature_extraction.text import CountVectorizer\n",
    "cv = CountVectorizer()"
   ]
  },
  {
   "cell_type": "code",
   "execution_count": 14,
   "id": "130fdbe9-8076-4020-8e1b-b90c6d450b11",
   "metadata": {},
   "outputs": [],
   "source": [
    "bow = cv.fit_transform(df['text'])"
   ]
  },
  {
   "cell_type": "code",
   "execution_count": 15,
   "id": "6360afb3-7e79-499b-b9a3-42369d35101a",
   "metadata": {},
   "outputs": [
    {
     "data": {
      "text/plain": [
       "{'people': 1, 'watch': 2, 'youtube': 4, 'write': 3, 'comment': 0}"
      ]
     },
     "execution_count": 15,
     "metadata": {},
     "output_type": "execute_result"
    }
   ],
   "source": [
    "cv.vocabulary_"
   ]
  },
  {
   "cell_type": "code",
   "execution_count": 16,
   "id": "15ea46bd-0c1a-458b-8b34-5effcf449b3d",
   "metadata": {},
   "outputs": [
    {
     "data": {
      "text/plain": [
       "array([[0, 1, 1, 0, 1]], dtype=int64)"
      ]
     },
     "execution_count": 16,
     "metadata": {},
     "output_type": "execute_result"
    }
   ],
   "source": [
    "bow[0].toarray()  # 'people watch youtube' converted form to vector"
   ]
  },
  {
   "cell_type": "code",
   "execution_count": 17,
   "id": "7b6e1d61-9bf1-4568-b5fd-449dee9df75b",
   "metadata": {},
   "outputs": [
    {
     "data": {
      "text/plain": [
       "array([[0, 0, 1, 0, 2]], dtype=int64)"
      ]
     },
     "execution_count": 17,
     "metadata": {},
     "output_type": "execute_result"
    }
   ],
   "source": [
    "bow[1].toarray()  # 'youtube watch youtube'"
   ]
  },
  {
   "cell_type": "code",
   "execution_count": 18,
   "id": "2c979f28-f33b-4594-9793-e3427e970439",
   "metadata": {},
   "outputs": [
    {
     "data": {
      "text/plain": [
       "array([[0, 0, 1, 0, 1]], dtype=int64)"
      ]
     },
     "execution_count": 18,
     "metadata": {},
     "output_type": "execute_result"
    }
   ],
   "source": [
    "cv.transform(['youtube is a watch platform']).toarray() # new sentence"
   ]
  },
  {
   "cell_type": "markdown",
   "id": "0a760b48-7514-4f56-a500-ff437ca1d318",
   "metadata": {},
   "source": [
    "- we can see it can change new sentence to vector but problem is it ignores new word if any unlike OHE will not show error but will ignore.\n",
    "- if new word has some information it will not capture it, only looks in it's vocabulary\n",
    "- there is no ordering of text "
   ]
  },
  {
   "cell_type": "markdown",
   "id": "b611a10d-470e-4a93-b9c8-9cdbb72864d9",
   "metadata": {},
   "source": [
    "## N-grams"
   ]
  },
  {
   "cell_type": "code",
   "execution_count": 21,
   "id": "ecd7eb4b-6de7-4c55-812f-f475fdc94c8e",
   "metadata": {},
   "outputs": [],
   "source": [
    "from sklearn.feature_extraction.text import CountVectorizer\n",
    "cv_gram = CountVectorizer(ngram_range=(2,2))  # (2,2) represents bigram 1,1 mean unigram 3,3 mean trigram 1,2 mean uni and bi both"
   ]
  },
  {
   "cell_type": "code",
   "execution_count": 22,
   "id": "15bed2f4-22a3-4070-832d-9a3cf9a20ac4",
   "metadata": {},
   "outputs": [
    {
     "data": {
      "text/plain": [
       "{'people watch': 0,\n",
       " 'watch youtube': 2,\n",
       " 'youtube watch': 4,\n",
       " 'people write': 1,\n",
       " 'write comment': 3,\n",
       " 'youtube write': 5}"
      ]
     },
     "execution_count": 22,
     "metadata": {},
     "output_type": "execute_result"
    }
   ],
   "source": [
    "bow = cv_gram.fit_transform(df['text'])\n",
    "cv_gram.vocabulary_"
   ]
  },
  {
   "cell_type": "code",
   "execution_count": 23,
   "id": "c31409ce-6ebd-45d7-b95e-e17c2620bb30",
   "metadata": {},
   "outputs": [
    {
     "data": {
      "text/plain": [
       "array([[1, 0, 1, 0, 0, 0]], dtype=int64)"
      ]
     },
     "execution_count": 23,
     "metadata": {},
     "output_type": "execute_result"
    }
   ],
   "source": [
    "bow[0].toarray()  # 'people watch youtube' converted form to vector"
   ]
  },
  {
   "cell_type": "code",
   "execution_count": 24,
   "id": "09715b22-3357-42e1-aa34-03b444f3a92f",
   "metadata": {},
   "outputs": [
    {
     "data": {
      "text/plain": [
       "array([[0, 0, 1, 0, 1, 0]], dtype=int64)"
      ]
     },
     "execution_count": 24,
     "metadata": {},
     "output_type": "execute_result"
    }
   ],
   "source": [
    "bow[1].toarray()  # 'youtube watch youtube'"
   ]
  },
  {
   "cell_type": "markdown",
   "id": "df4b14f5-0b93-4c3b-a601-9ade11f34f4a",
   "metadata": {},
   "source": [
    "## Tf-Idf [Term Freq. - Inverse Document Freq.]"
   ]
  },
  {
   "cell_type": "code",
   "execution_count": 26,
   "id": "b922711e-9077-401e-bcf2-62b13a66b6e8",
   "metadata": {},
   "outputs": [],
   "source": [
    "from sklearn.feature_extraction.text import TfidfVectorizer\n",
    "tf_idf = TfidfVectorizer()"
   ]
  },
  {
   "cell_type": "code",
   "execution_count": 27,
   "id": "83aae017-55aa-4119-a1eb-9c99d49d91ea",
   "metadata": {},
   "outputs": [
    {
     "data": {
      "text/plain": [
       "array([[0.        , 0.61366674, 0.61366674, 0.        , 0.49681612],\n",
       "       [0.        , 0.        , 0.52546357, 0.        , 0.8508161 ],\n",
       "       [0.57735027, 0.57735027, 0.        , 0.57735027, 0.        ],\n",
       "       [0.61366674, 0.        , 0.        , 0.61366674, 0.49681612]])"
      ]
     },
     "execution_count": 27,
     "metadata": {},
     "output_type": "execute_result"
    }
   ],
   "source": [
    "tf_idf.fit_transform(df['text']).toarray()"
   ]
  },
  {
   "cell_type": "code",
   "execution_count": 44,
   "id": "fc2df037-6835-4999-a027-f0bceae959dc",
   "metadata": {},
   "outputs": [
    {
     "name": "stdout",
     "output_type": "stream",
     "text": [
      "[1.51082562 1.51082562 1.51082562 1.51082562 1.22314355]\n",
      "['comment' 'people' 'watch' 'write' 'youtube']\n"
     ]
    }
   ],
   "source": [
    "print(tf_idf.idf_)\n",
    "print(tf_idf.get_feature_names_out())"
   ]
  },
  {
   "cell_type": "code",
   "execution_count": null,
   "id": "6697c3ba-3443-43f9-9bc1-45ad77313c7b",
   "metadata": {},
   "outputs": [],
   "source": []
  }
 ],
 "metadata": {
  "kernelspec": {
   "display_name": "Python [conda env:base] *",
   "language": "python",
   "name": "conda-base-py"
  },
  "language_info": {
   "codemirror_mode": {
    "name": "ipython",
    "version": 3
   },
   "file_extension": ".py",
   "mimetype": "text/x-python",
   "name": "python",
   "nbconvert_exporter": "python",
   "pygments_lexer": "ipython3",
   "version": "3.12.7"
  }
 },
 "nbformat": 4,
 "nbformat_minor": 5
}
