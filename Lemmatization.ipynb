{
 "cells": [
  {
   "cell_type": "markdown",
   "id": "e5e27593-741c-466b-9995-8e30444aff65",
   "metadata": {},
   "source": [
    "## WordNet Lemmatizer(NLTK)\n",
    "- rootword called as Lemma\n",
    "- here we get rootword which has a valid meaning unlike stemming. "
   ]
  },
  {
   "cell_type": "code",
   "execution_count": 10,
   "id": "0461fda4-124a-41e4-8a0c-c660f79402fb",
   "metadata": {},
   "outputs": [
    {
     "name": "stderr",
     "output_type": "stream",
     "text": [
      "[nltk_data] Downloading package wordnet to\n",
      "[nltk_data]     C:\\Users\\piyus\\AppData\\Roaming\\nltk_data...\n"
     ]
    },
    {
     "data": {
      "text/plain": [
       "True"
      ]
     },
     "execution_count": 10,
     "metadata": {},
     "output_type": "execute_result"
    }
   ],
   "source": [
    "import nltk\n",
    "nltk.download('wordnet')"
   ]
  },
  {
   "cell_type": "code",
   "execution_count": 2,
   "id": "d42cab86-15df-4a6f-b006-8f61c3b78d57",
   "metadata": {},
   "outputs": [],
   "source": [
    "from nltk.stem import WordNetLemmatizer\n",
    "lemmatizer = WordNetLemmatizer()"
   ]
  },
  {
   "cell_type": "code",
   "execution_count": null,
   "id": "ec4d51ba-da12-4839-bccf-ca2bff6aad1b",
   "metadata": {},
   "outputs": [],
   "source": [
    "## lemaatizer has pos mean part of speech\n",
    "\"\"\" here we can define how to treat word like noun verb adverb etc.\n",
    "param pos: The Part Of Speech tag. Valid options are `\"n\"` for nouns,\n",
    "    `\"v\"` for verbs, `\"a\"` for adjectives, `\"r\"` for adverbs and `\"s\"`\n",
    "    for satellite adjectives.\n",
    "\"\"\""
   ]
  },
  {
   "cell_type": "code",
   "execution_count": 14,
   "id": "2f8056a5-ac10-43cd-89c2-df68b5fe62bd",
   "metadata": {},
   "outputs": [
    {
     "data": {
      "text/plain": [
       "'fly'"
      ]
     },
     "execution_count": 14,
     "metadata": {},
     "output_type": "execute_result"
    }
   ],
   "source": [
    "lemmatizer.lemmatize('flying', pos='v')"
   ]
  },
  {
   "cell_type": "code",
   "execution_count": 16,
   "id": "bebad954-3a8c-4e25-81ad-40c95c05c108",
   "metadata": {},
   "outputs": [],
   "source": [
    "words = ['processing','process','processed','running','runs','run','ran','program','programmed','programming',\n",
    "        'fly','flew','flying','eat','eating','ate']"
   ]
  },
  {
   "cell_type": "code",
   "execution_count": 20,
   "id": "2f7855b8-9737-428b-a108-9b35044677b5",
   "metadata": {},
   "outputs": [
    {
     "name": "stdout",
     "output_type": "stream",
     "text": [
      "processing root word or base form is ---------> process\n",
      "process root word or base form is ---------> process\n",
      "processed root word or base form is ---------> process\n",
      "running root word or base form is ---------> run\n",
      "runs root word or base form is ---------> run\n",
      "run root word or base form is ---------> run\n",
      "ran root word or base form is ---------> run\n",
      "program root word or base form is ---------> program\n",
      "programmed root word or base form is ---------> program\n",
      "programming root word or base form is ---------> program\n",
      "fly root word or base form is ---------> fly\n",
      "flew root word or base form is ---------> fly\n",
      "flying root word or base form is ---------> fly\n",
      "eat root word or base form is ---------> eat\n",
      "eating root word or base form is ---------> eat\n",
      "ate root word or base form is ---------> eat\n"
     ]
    }
   ],
   "source": [
    "for word in words:\n",
    "    print(f'{word} root word or base form is ---------> {lemmatizer.lemmatize(word, pos='v')}')"
   ]
  },
  {
   "cell_type": "markdown",
   "id": "ef86933d-d3d4-49d4-807c-4723d0ff5f65",
   "metadata": {},
   "source": [
    "- #### Perfect! correct output compared to stemming"
   ]
  },
  {
   "cell_type": "code",
   "execution_count": null,
   "id": "b4ebc641-7dc4-44de-9175-6a8947bf097f",
   "metadata": {},
   "outputs": [],
   "source": []
  }
 ],
 "metadata": {
  "kernelspec": {
   "display_name": "Python [conda env:base] *",
   "language": "python",
   "name": "conda-base-py"
  },
  "language_info": {
   "codemirror_mode": {
    "name": "ipython",
    "version": 3
   },
   "file_extension": ".py",
   "mimetype": "text/x-python",
   "name": "python",
   "nbconvert_exporter": "python",
   "pygments_lexer": "ipython3",
   "version": "3.12.7"
  }
 },
 "nbformat": 4,
 "nbformat_minor": 5
}
